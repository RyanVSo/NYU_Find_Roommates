{
  "nbformat": 4,
  "nbformat_minor": 0,
  "metadata": {
    "colab": {
      "provenance": []
    },
    "kernelspec": {
      "name": "python3",
      "display_name": "Python 3"
    },
    "language_info": {
      "name": "python"
    }
  },
  "cells": [
    {
      "cell_type": "code",
      "source": [
        "import random\n",
        "import os\n",
        "import string\n",
        "\n",
        "import numpy as np\n",
        "import pandas as pd\n",
        "\n",
        "import matplotlib.pyplot as plt"
      ],
      "metadata": {
        "id": "zclF1p0Q6WgB"
      },
      "execution_count": null,
      "outputs": []
    },
    {
      "cell_type": "code",
      "source": [
        "df = pd.read_csv(\"SocNetProjectData.csv\")"
      ],
      "metadata": {
        "id": "ACLQ_KPp7H58"
      },
      "execution_count": null,
      "outputs": []
    },
    {
      "cell_type": "code",
      "source": [
        "df.hist(column='Q1', alpha=1)"
      ],
      "metadata": {
        "colab": {
          "base_uri": "https://localhost:8080/",
          "height": 317
        },
        "id": "xKW0761EdwLG",
        "outputId": "c3b27e64-e611-4d61-9635-658ada64c815"
      },
      "execution_count": null,
      "outputs": [
        {
          "output_type": "execute_result",
          "data": {
            "text/plain": [
              "array([[<matplotlib.axes._subplots.AxesSubplot object at 0x7fa23c4a1b80>]],\n",
              "      dtype=object)"
            ]
          },
          "metadata": {},
          "execution_count": 189
        },
        {
          "output_type": "display_data",
          "data": {
            "text/plain": [
              "<Figure size 432x288 with 1 Axes>"
            ],
            "image/png": "[encoded data removed]"
          },
          "metadata": {
            "needs_background": "light"
          }
        }
      ]
    },
    {
      "cell_type": "code",
      "source": [
        "df.hist(column='Q2', alpha=1)"
      ],
      "metadata": {
        "colab": {
          "base_uri": "https://localhost:8080/",
          "height": 317
        },
        "id": "ARkFmXuvm6Mg",
        "outputId": "b3787d03-aaa6-4ba7-c50e-aefa1af65ede"
      },
      "execution_count": null,
      "outputs": [
        {
          "output_type": "execute_result",
          "data": {
            "text/plain": [
              "array([[<matplotlib.axes._subplots.AxesSubplot object at 0x7fa23c4604c0>]],\n",
              "      dtype=object)"
            ]
          },
          "metadata": {},
          "execution_count": 190
        },
        {
          "output_type": "display_data",
          "data": {
            "text/plain": [
              "<Figure size 432x288 with 1 Axes>"
            ],
            "image/png": "[encoded data removed]"
          },
          "metadata": {
            "needs_background": "light"
          }
        }
      ]
    },
    {
      "cell_type": "code",
      "source": [
        "df.hist(column='Q3', alpha=1)"
      ],
      "metadata": {
        "colab": {
          "base_uri": "https://localhost:8080/",
          "height": 317
        },
        "id": "lNp-z6xt5bvC",
        "outputId": "4c93a32f-6c6e-4318-bea8-6b26dee0a26e"
      },
      "execution_count": null,
      "outputs": [
        {
          "output_type": "execute_result",
          "data": {
            "text/plain": [
              "array([[<matplotlib.axes._subplots.AxesSubplot object at 0x7fa23c3d45e0>]],\n",
              "      dtype=object)"
            ]
          },
          "metadata": {},
          "execution_count": 191
        },
        {
          "output_type": "display_data",
          "data": {
            "text/plain": [
              "<Figure size 432x288 with 1 Axes>"
            ],
            "image/png": "[encoded data removed]"
          },
          "metadata": {
            "needs_background": "light"
          }
        }
      ]
    },
    {
      "cell_type": "code",
      "source": [
        "df.hist(column='Q4', alpha=1)"
      ],
      "metadata": {
        "colab": {
          "base_uri": "https://localhost:8080/",
          "height": 317
        },
        "id": "P4xDwwH_dwcs",
        "outputId": "38b7f802-f2dd-4af2-e449-4a59d352c49b"
      },
      "execution_count": null,
      "outputs": [
        {
          "output_type": "execute_result",
          "data": {
            "text/plain": [
              "array([[<matplotlib.axes._subplots.AxesSubplot object at 0x7fa23c33ca30>]],\n",
              "      dtype=object)"
            ]
          },
          "metadata": {},
          "execution_count": 192
        },
        {
          "output_type": "display_data",
          "data": {
            "text/plain": [
              "<Figure size 432x288 with 1 Axes>"
            ],
            "image/png": "[encoded data removed]"
          },
          "metadata": {
            "needs_background": "light"
          }
        }
      ]
    },
    {
      "cell_type": "code",
      "source": [
        "X = df.drop(columns = ['Q4'])\n",
        "y = df['Q4']\n",
        "import statsmodels.api as sm\n",
        "logit_model=sm.Logit(y,X)\n",
        "result=logit_model.fit()\n",
        "print(result.summary())"
      ],
      "metadata": {
        "colab": {
          "base_uri": "https://localhost:8080/"
        },
        "id": "LztIjiJkJrxv",
        "outputId": "f26e37f3-5d59-4b44-9370-2c4b2e6ab6c9"
      },
      "execution_count": null,
      "outputs": [
        {
          "output_type": "stream",
          "name": "stdout",
          "text": [
            "Optimization terminated successfully.\n",
            "         Current function value: 0.252876\n",
            "         Iterations 7\n",
            "                           Logit Regression Results                           \n",
            "==============================================================================\n",
            "Dep. Variable:                     Q4   No. Observations:                  118\n",
            "Model:                          Logit   Df Residuals:                      115\n",
            "Method:                           MLE   Df Model:                            2\n",
            "Date:                Tue, 13 Dec 2022   Pseudo R-squ.:                  0.5298\n",
            "Time:                        23:15:56   Log-Likelihood:                -29.839\n",
            "converged:                       True   LL-Null:                       -63.465\n",
            "Covariance Type:            nonrobust   LLR p-value:                 2.492e-15\n",
            "==============================================================================\n",
            "                 coef    std err          z      P>|z|      [0.025      0.975]\n",
            "------------------------------------------------------------------------------\n",
            "Q1             0.2593      0.125      2.067      0.039       0.013       0.505\n",
            "Q2            -0.4384      0.093     -4.702      0.000      -0.621      -0.256\n",
            "Q3             0.2697      0.119      2.259      0.024       0.036       0.504\n",
            "==============================================================================\n"
          ]
        }
      ]
    },
    {
      "cell_type": "code",
      "source": [
        "from sklearn.linear_model import LogisticRegression\n",
        "from sklearn import metrics\n",
        "from sklearn.model_selection import train_test_split\n",
        "\n",
        "X_train, X_test, y_train, y_test = train_test_split(X, y, test_size=0.3, random_state=0)\n",
        "logreg = LogisticRegression()\n",
        "logreg.fit(X_train, y_train)"
      ],
      "metadata": {
        "colab": {
          "base_uri": "https://localhost:8080/"
        },
        "id": "NLdBsOqsLH6I",
        "outputId": "6f3069aa-8ff1-498b-bd01-8c9feef5e79a"
      },
      "execution_count": null,
      "outputs": [
        {
          "output_type": "execute_result",
          "data": {
            "text/plain": [
              "LogisticRegression()"
            ]
          },
          "metadata": {},
          "execution_count": 205
        }
      ]
    },
    {
      "cell_type": "code",
      "source": [
        "df"
      ],
      "metadata": {
        "colab": {
          "base_uri": "https://localhost:8080/",
          "height": 424
        },
        "id": "_20XrCVexYhR",
        "outputId": "d28aad62-a2c2-4aeb-c375-b13998ab1f02"
      },
      "execution_count": null,
      "outputs": [
        {
          "output_type": "execute_result",
          "data": {
            "text/plain": [
              "     Q1  Q2  Q3  Q4\n",
              "5     8   1  10   1\n",
              "6     8   1  10   1\n",
              "63    9   3   7   1\n",
              "102   9   7   1   0\n",
              "116   7   9   2   1\n",
              "..   ..  ..  ..  ..\n",
              "49   10   2   8   1\n",
              "92    3  10   4   0\n",
              "45   10   2   8   1\n",
              "7     8   1  10   1\n",
              "73    6   4   7   1\n",
              "\n",
              "[118 rows x 4 columns]"
            ],
            "text/html": [
              "\n",
              "  <div id=\"df-00dca23f-7853-4ce0-95aa-0f3d38a82341\">\n",
              "    <div class=\"colab-df-container\">\n",
              "      <div>\n",
              "<style scoped>\n",
              "    .dataframe tbody tr th:only-of-type {\n",
              "        vertical-align: middle;\n",
              "    }\n",
              "\n",
              "    .dataframe tbody tr th {\n",
              "        vertical-align: top;\n",
              "    }\n",
              "\n",
              "    .dataframe thead th {\n",
              "        text-align: right;\n",
              "    }\n",
              "</style>\n",
              "<table border=\"1\" class=\"dataframe\">\n",
              "  <thead>\n",
              "    <tr style=\"text-align: right;\">\n",
              "      <th></th>\n",
              "      <th>Q1</th>\n",
              "      <th>Q2</th>\n",
              "      <th>Q3</th>\n",
              "      <th>Q4</th>\n",
              "    </tr>\n",
              "  </thead>\n",
              "  <tbody>\n",
              "    <tr>\n",
              "      <th>5</th>\n",
              "      <td>8</td>\n",
              "      <td>1</td>\n",
              "      <td>10</td>\n",
              "      <td>1</td>\n",
              "    </tr>\n",
              "    <tr>\n",
              "      <th>6</th>\n",
              "      <td>8</td>\n",
              "      <td>1</td>\n",
              "      <td>10</td>\n",
              "      <td>1</td>\n",
              "    </tr>\n",
              "    <tr>\n",
              "      <th>63</th>\n",
              "      <td>9</td>\n",
              "      <td>3</td>\n",
              "      <td>7</td>\n",
              "      <td>1</td>\n",
              "    </tr>\n",
              "    <tr>\n",
              "      <th>102</th>\n",
              "      <td>9</td>\n",
              "      <td>7</td>\n",
              "      <td>1</td>\n",
              "      <td>0</td>\n",
              "    </tr>\n",
              "    <tr>\n",
              "      <th>116</th>\n",
              "      <td>7</td>\n",
              "      <td>9</td>\n",
              "      <td>2</td>\n",
              "      <td>1</td>\n",
              "    </tr>\n",
              "    <tr>\n",
              "      <th>...</th>\n",
              "      <td>...</td>\n",
              "      <td>...</td>\n",
              "      <td>...</td>\n",
              "      <td>...</td>\n",
              "    </tr>\n",
              "    <tr>\n",
              "      <th>49</th>\n",
              "      <td>10</td>\n",
              "      <td>2</td>\n",
              "      <td>8</td>\n",
              "      <td>1</td>\n",
              "    </tr>\n",
              "    <tr>\n",
              "      <th>92</th>\n",
              "      <td>3</td>\n",
              "      <td>10</td>\n",
              "      <td>4</td>\n",
              "      <td>0</td>\n",
              "    </tr>\n",
              "    <tr>\n",
              "      <th>45</th>\n",
              "      <td>10</td>\n",
              "      <td>2</td>\n",
              "      <td>8</td>\n",
              "      <td>1</td>\n",
              "    </tr>\n",
              "    <tr>\n",
              "      <th>7</th>\n",
              "      <td>8</td>\n",
              "      <td>1</td>\n",
              "      <td>10</td>\n",
              "      <td>1</td>\n",
              "    </tr>\n",
              "    <tr>\n",
              "      <th>73</th>\n",
              "      <td>6</td>\n",
              "      <td>4</td>\n",
              "      <td>7</td>\n",
              "      <td>1</td>\n",
              "    </tr>\n",
              "  </tbody>\n",
              "</table>\n",
              "<p>118 rows × 4 columns</p>\n",
              "</div>\n",
              "      <button class=\"colab-df-convert\" onclick=\"convertToInteractive('df-00dca23f-7853-4ce0-95aa-0f3d38a82341')\"\n",
              "              title=\"Convert this dataframe to an interactive table.\"\n",
              "              style=\"display:none;\">\n",
              "        \n",
              "  <svg xmlns=\"http://www.w3.org/2000/svg\" height=\"24px\"viewBox=\"0 0 24 24\"\n",
              "       width=\"24px\">\n",
              "    <path d=\"M0 0h24v24H0V0z\" fill=\"none\"/>\n",
              "    <path d=\"M18.56 5.44l.94 2.06.94-2.06 2.06-.94-2.06-.94-.94-2.06-.94 2.06-2.06.94zm-11 1L8.5 8.5l.94-2.06 2.06-.94-2.06-.94L8.5 2.5l-.94 2.06-2.06.94zm10 10l.94 2.06.94-2.06 2.06-.94-2.06-.94-.94-2.06-.94 2.06-2.06.94z\"/><path d=\"M17.41 7.96l-1.37-1.37c-.4-.4-.92-.59-1.43-.59-.52 0-1.04.2-1.43.59L10.3 9.45l-7.72 7.72c-.78.78-.78 2.05 0 2.83L4 21.41c.39.39.9.59 1.41.59.51 0 1.02-.2 1.41-.59l7.78-7.78 2.81-2.81c.8-.78.8-2.07 0-2.86zM5.41 20L4 18.59l7.72-7.72 1.47 1.35L5.41 20z\"/>\n",
              "  </svg>\n",
              "      </button>\n",
              "      \n",
              "  <style>\n",
              "    .colab-df-container {\n",
              "      display:flex;\n",
              "      flex-wrap:wrap;\n",
              "      gap: 12px;\n",
              "    }\n",
              "\n",
              "    .colab-df-convert {\n",
              "      background-color: #E8F0FE;\n",
              "      border: none;\n",
              "      border-radius: 50%;\n",
              "      cursor: pointer;\n",
              "      display: none;\n",
              "      fill: #1967D2;\n",
              "      height: 32px;\n",
              "      padding: 0 0 0 0;\n",
              "      width: 32px;\n",
              "    }\n",
              "\n",
              "    .colab-df-convert:hover {\n",
              "      background-color: #E2EBFA;\n",
              "      box-shadow: 0px 1px 2px rgba(60, 64, 67, 0.3), 0px 1px 3px 1px rgba(60, 64, 67, 0.15);\n",
              "      fill: #174EA6;\n",
              "    }\n",
              "\n",
              "    [theme=dark] .colab-df-convert {\n",
              "      background-color: #3B4455;\n",
              "      fill: #D2E3FC;\n",
              "    }\n",
              "\n",
              "    [theme=dark] .colab-df-convert:hover {\n",
              "      background-color: #434B5C;\n",
              "      box-shadow: 0px 1px 3px 1px rgba(0, 0, 0, 0.15);\n",
              "      filter: drop-shadow(0px 1px 2px rgba(0, 0, 0, 0.3));\n",
              "      fill: #FFFFFF;\n",
              "    }\n",
              "  </style>\n",
              "\n",
              "      <script>\n",
              "        const buttonEl =\n",
              "          document.querySelector('#df-00dca23f-7853-4ce0-95aa-0f3d38a82341 button.colab-df-convert');\n",
              "        buttonEl.style.display =\n",
              "          google.colab.kernel.accessAllowed ? 'block' : 'none';\n",
              "\n",
              "        async function convertToInteractive(key) {\n",
              "          const element = document.querySelector('#df-00dca23f-7853-4ce0-95aa-0f3d38a82341');\n",
              "          const dataTable =\n",
              "            await google.colab.kernel.invokeFunction('convertToInteractive',\n",
              "                                                     [key], {});\n",
              "          if (!dataTable) return;\n",
              "\n",
              "          const docLinkHtml = 'Like what you see? Visit the ' +\n",
              "            '<a target=\"_blank\" href=https://colab.research.google.com/notebooks/data_table.ipynb>data table notebook</a>'\n",
              "            + ' to learn more about interactive tables.';\n",
              "          element.innerHTML = '';\n",
              "          dataTable['output_type'] = 'display_data';\n",
              "          await google.colab.output.renderOutput(dataTable, element);\n",
              "          const docLink = document.createElement('div');\n",
              "          docLink.innerHTML = docLinkHtml;\n",
              "          element.appendChild(docLink);\n",
              "        }\n",
              "      </script>\n",
              "    </div>\n",
              "  </div>\n",
              "  "
            ]
          },
          "metadata": {},
          "execution_count": 200
        }
      ]
    },
    {
      "cell_type": "code",
      "source": [
        "y_pred = logreg.predict(X_test)\n",
        "print('Accuracy of logistic regression classifier on test set: {:.2f}'.format(logreg.score(X_test, y_test)))"
      ],
      "metadata": {
        "colab": {
          "base_uri": "https://localhost:8080/"
        },
        "id": "DhPhvmScLZOH",
        "outputId": "756ac679-5598-478f-a90e-dce85f9cf907"
      },
      "execution_count": null,
      "outputs": [
        {
          "output_type": "stream",
          "name": "stdout",
          "text": [
            "Accuracy of logistic regression classifier on test set: 0.86\n"
          ]
        }
      ]
    },
    {
      "cell_type": "code",
      "source": [
        "from sklearn.metrics import confusion_matrix\n",
        "confusion_matrix = confusion_matrix(y_test, y_pred)\n",
        "print(confusion_matrix)"
      ],
      "metadata": {
        "colab": {
          "base_uri": "https://localhost:8080/"
        },
        "id": "ylXOPzJlLt73",
        "outputId": "7b5d6a30-f1b4-41c1-ac96-216cfbd5ed1c"
      },
      "execution_count": null,
      "outputs": [
        {
          "output_type": "stream",
          "name": "stdout",
          "text": [
            "[[ 7  0]\n",
            " [ 1 24]]\n"
          ]
        }
      ]
    },
    {
      "cell_type": "code",
      "source": [
        "#Correlation Tests between Q1 and Q4\n",
        "\n",
        "# Pearson's Correlation test\n",
        "from scipy.stats import pearsonr\n",
        "r, p = pearsonr(df['Q1'], df['Q4'])\n",
        "print('Pearsons Correlation:', 'stat=%.3f, p=%.3f' % (r, p))\n",
        "if p < 0.05:\n",
        " print('p-value is less than 0.5, so Q1 and Q4 are correlated.')\n",
        "\n",
        "# Spearman's Rank Correlation Test\n",
        "from scipy.stats import spearmanr\n",
        "rho, p = spearmanr(df['Q1'], df['Q4'])\n",
        "print('Spearman Correlation:','stat=%.3f, p=%.3f' % (rho, p))\n",
        "if p < 0.05:\n",
        "  print('p-value is less than 0.5, so Q1 and Q4 are correlated.')\n",
        "\n",
        "from scipy.stats import kendalltau\n",
        "tau, p = kendalltau(df['Q1'], df['Q4'])\n",
        "print('Kendall Correlation:','stat=%.3f, p=%.3f' % (tau, p))\n",
        "if p < 0.05:\n",
        " print('p-value is less than 0.5, so Q1 and Q4 are correlated.')"
      ],
      "metadata": {
        "colab": {
          "base_uri": "https://localhost:8080/"
        },
        "id": "QsFmArneCFQN",
        "outputId": "2778f93b-87d5-4de1-886f-e81b3466df18"
      },
      "execution_count": null,
      "outputs": [
        {
          "output_type": "stream",
          "name": "stdout",
          "text": [
            "Pearsons Correlation: stat=0.653, p=0.000\n",
            "p-value is less than 0.5, so Q1 and Q4 are correlated.\n",
            "Spearman Correlation: stat=0.560, p=0.000\n",
            "p-value is less than 0.5, so Q1 and Q4 are correlated.\n",
            "Kendall Correlation: stat=0.487, p=0.000\n",
            "p-value is less than 0.5, so Q1 and Q4 are correlated.\n"
          ]
        }
      ]
    },
    {
      "cell_type": "code",
      "source": [
        "#Correlation Tests between Q2 and Q4\n",
        "\n",
        "# Pearson's Correlation test\n",
        "from scipy.stats import pearsonr\n",
        "r, p = pearsonr(df['Q2'], df['Q4'])\n",
        "print('Pearsons Correlation:', 'stat=%.3f, p=%.3f' % (r, p))\n",
        "if p < 0.05:\n",
        " print('p-value is less than 0.5, so Q2 and Q4 are correlated.')\n",
        "\n",
        "# Spearman's Rank Correlation Test\n",
        "from scipy.stats import spearmanr\n",
        "rho, p = spearmanr(df['Q2'], df['Q4'])\n",
        "print('Spearman Correlation:','stat=%.3f, p=%.3f' % (rho, p))\n",
        "if p < 0.05:\n",
        "  print('p-value is less than 0.5, so Q2 and Q4 are correlated.')\n",
        "\n",
        "from scipy.stats import kendalltau\n",
        "tau, p = kendalltau(df['Q2'], df['Q4'])\n",
        "print('Kendall Correlation:','stat=%.3f, p=%.3f' % (tau, p))\n",
        "if p < 0.05:\n",
        " print('p-value is less than 0.5, so Q2 and Q4 are correlated.')"
      ],
      "metadata": {
        "colab": {
          "base_uri": "https://localhost:8080/"
        },
        "id": "vm8Bquu3Es99",
        "outputId": "ef394f1d-6489-47cd-fcdd-d7e66e31e279"
      },
      "execution_count": null,
      "outputs": [
        {
          "output_type": "stream",
          "name": "stdout",
          "text": [
            "Pearsons Correlation: stat=-0.853, p=0.000\n",
            "p-value is less than 0.5, so Q2 and Q4 are correlated.\n",
            "Spearman Correlation: stat=-0.701, p=0.000\n",
            "p-value is less than 0.5, so Q2 and Q4 are correlated.\n",
            "Kendall Correlation: stat=-0.614, p=0.000\n",
            "p-value is less than 0.5, so Q2 and Q4 are correlated.\n"
          ]
        }
      ]
    },
    {
      "cell_type": "code",
      "source": [
        "#Correlation Tests between Q3 and Q4\n",
        "\n",
        "# Pearson's Correlation test\n",
        "from scipy.stats import pearsonr\n",
        "r, p = pearsonr(df['Q3'], df['Q4'])\n",
        "print('Pearsons Correlation:', 'stat=%.3f, p=%.20f' % (r, p))\n",
        "if p < 0.05:\n",
        " print('p-value is less than 0.5, so Q3 and Q4 are correlated.')\n",
        "\n",
        "# Spearman's Rank Correlation Test\n",
        "from scipy.stats import spearmanr\n",
        "rho, p = spearmanr(df['Q3'], df['Q4'])\n",
        "print('Spearman Correlation:','stat=%.3f, p=%.11f' % (rho, p))\n",
        "if p < 0.05:\n",
        "  print('p-value is less than 0.5, so Q3 and Q4 are correlated.')\n",
        "\n",
        "from scipy.stats import kendalltau\n",
        "tau, p = kendalltau(df['Q3'], df['Q4'])\n",
        "print('Kendall Correlation:','stat=%.3f, p=%.10f' % (tau, p))\n",
        "if p < 0.05:\n",
        " print('p-value is less than 0.5, so Q3 and Q4 are correlated.')"
      ],
      "metadata": {
        "colab": {
          "base_uri": "https://localhost:8080/"
        },
        "id": "q78jhrlYE5ud",
        "outputId": "fa79e514-998b-438b-e150-f656455c9d1e"
      },
      "execution_count": null,
      "outputs": [
        {
          "output_type": "stream",
          "name": "stdout",
          "text": [
            "Pearsons Correlation: stat=0.660, p=0.00000000000000042227\n",
            "p-value is less than 0.5, so Q3 and Q4 are correlated.\n",
            "Spearman Correlation: stat=0.573, p=0.00000000001\n",
            "p-value is less than 0.5, so Q3 and Q4 are correlated.\n",
            "Kendall Correlation: stat=0.499, p=0.0000000006\n",
            "p-value is less than 0.5, so Q3 and Q4 are correlated.\n"
          ]
        }
      ]
    },
    {
      "cell_type": "code",
      "source": [
        "from scipy.stats import chi2_contingency\n",
        "stat, p, dof, expected = chi2_contingency(df)\n",
        "print('Chi Squared Correlation:','stat=%.3f, p=%.8f' % (tau, p))\n",
        "if p < 0.05:\n",
        " print('p-value is less than 0.5, so the predictors and Q4 are correlated.')"
      ],
      "metadata": {
        "colab": {
          "base_uri": "https://localhost:8080/"
        },
        "id": "F4FaV0ptsEvB",
        "outputId": "5375dd71-e634-472a-f125-4d89a66dfa30"
      },
      "execution_count": null,
      "outputs": [
        {
          "output_type": "stream",
          "name": "stdout",
          "text": [
            "Chi Squared Correlation: stat=0.499, p=0.00000004\n",
            "p-value is less than 0.5, so the predictors and Q4 are correlated.\n"
          ]
        }
      ]
    }
  ]
}